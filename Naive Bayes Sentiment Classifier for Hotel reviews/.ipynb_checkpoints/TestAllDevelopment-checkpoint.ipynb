{
 "cells": [
  {
   "cell_type": "code",
   "execution_count": null,
   "metadata": {
    "scrolled": true
   },
   "outputs": [],
   "source": [
    "import nblearn3\n",
    "import nbclassify3 \n",
    "import data\n",
    "import numpy as np\n",
    "#dict_classes=learn()\n",
    "#print(dict_classes.get('deceptive_negative'))\n",
    "#data.new_data_processing('/Users/nishatiwari/Downloads/op_spam_training_data/')\n",
    "#classify('/Users/nishatiwari/Downloads/op_spam_training_data/')\n",
    "nblearn3.main('/Users/nishatiwari/Downloads/op_spam_training_data/')\n",
    "\n"
   ]
  },
  {
   "cell_type": "code",
   "execution_count": null,
   "metadata": {},
   "outputs": [],
   "source": []
  },
  {
   "cell_type": "code",
   "execution_count": null,
   "metadata": {},
   "outputs": [],
   "source": []
  },
  {
   "cell_type": "code",
   "execution_count": null,
   "metadata": {},
   "outputs": [],
   "source": []
  }
 ],
 "metadata": {
  "kernelspec": {
   "display_name": "Python 3",
   "language": "python",
   "name": "python3"
  },
  "language_info": {
   "codemirror_mode": {
    "name": "ipython",
    "version": 3
   },
   "file_extension": ".py",
   "mimetype": "text/x-python",
   "name": "python",
   "nbconvert_exporter": "python",
   "pygments_lexer": "ipython3",
   "version": "3.6.7"
  }
 },
 "nbformat": 4,
 "nbformat_minor": 2
}
