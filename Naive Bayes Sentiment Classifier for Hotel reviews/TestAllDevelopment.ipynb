{
 "cells": [
  {
   "cell_type": "code",
   "execution_count": 2,
   "metadata": {
    "scrolled": false
   },
   "outputs": [
    {
     "name": "stdout",
     "output_type": "stream",
     "text": [
      "line0 7895 frustrated pays cafe\n",
      "line 1 7895 8.920606601248885e-05 0.0001784121320249777\n",
      "line 2 7895 0.00017317216776919613 0.00020780660132303536\n",
      "line 3 7895 4.878286745694912e-05 4.878286745694912e-05\n",
      "line 4 7895 0.00010748835542816194 7.165890361877464e-05\n",
      "(0.8281233215168118, 0.828125, 0.8281233215168118)\n",
      "(0.9343589743589743, 0.934375, 0.9343589743589742)\n",
      "(0.7843668869732843, 0.784375, 0.7843668869732843)\n"
     ]
    }
   ],
   "source": [
    "import nblearn3\n",
    "import nbclassify3 \n",
    "import data\n",
    "import numpy as np\n",
    "#dict_classes=learn()\n",
    "#print(dict_classes.get('deceptive_negative'))\n",
    "#data.new_data_processing('/Users/nishatiwari/Downloads/op_spam_training_data/')\n",
    "#classify('/Users/nishatiwari/Downloads/op_spam_training_data/')\n",
    "classes=['truthful_positive', 'truthful_negative', 'deceptive_positive','deceptive_negative']\n",
    "nbclassify3.main('/Users/nishatiwari/Downloads/op_spam_training_data/')\n",
    "\n"
   ]
  },
  {
   "cell_type": "code",
   "execution_count": null,
   "metadata": {},
   "outputs": [],
   "source": [
    "    attribute precision recall f1                                                                                                                                             \n",
    "    deceptive      0.82   0.84 0.83                                                                                                                                           \n",
    "    truthful       0.84   0.82 0.83                                                                                                                                           \n",
    "    negative       0.95   0.92 0.94                                                                                                                                           \n",
    "    positive       0.92   0.96 0.94                                                                                                                                           \n",
    "    Mean F1: 0.8844   \n",
    "        \n",
    "        deceptive 0.80 0.89 0.84\n",
    "        truthful 0.88 0.78 0.82\n",
    "        negative 0.96 0.89 0.92\n",
    "        positive 0.90 0.96 0.93\n",
    "        Mean F1: 0.8793\n",
    "            \n",
    "              attribute precision recall f1                                                                                                                                             \n",
    "    deceptive      0.83   0.83 0.83                                                                                                                                           \n",
    "    truthful       0.83   0.82 0.83                                                                                                                                           \n",
    "    negative       0.95   0.92 0.93                                                                                                                                           \n",
    "    positive       0.92   0.95 0.94                                                                                                                                           \n",
    "    Mean F1: 0.8812    "
   ]
  },
  {
   "cell_type": "code",
   "execution_count": null,
   "metadata": {},
   "outputs": [],
   "source": []
  },
  {
   "cell_type": "code",
   "execution_count": null,
   "metadata": {},
   "outputs": [],
   "source": []
  }
 ],
 "metadata": {
  "kernelspec": {
   "display_name": "Python 3",
   "language": "python",
   "name": "python3"
  },
  "language_info": {
   "codemirror_mode": {
    "name": "ipython",
    "version": 3
   },
   "file_extension": ".py",
   "mimetype": "text/x-python",
   "name": "python",
   "nbconvert_exporter": "python",
   "pygments_lexer": "ipython3",
   "version": "3.6.7"
  }
 },
 "nbformat": 4,
 "nbformat_minor": 2
}
